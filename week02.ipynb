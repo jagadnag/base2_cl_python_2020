{
 "cells": [
  {
   "cell_type": "markdown",
   "metadata": {},
   "source": [
    "## PYTHON BASICS\n",
    "- Indentation matters\n",
    "- Use spaces not tabs\n",
    "- Focus on redability"
   ]
  },
  {
   "cell_type": "code",
   "execution_count": null,
   "metadata": {},
   "outputs": [],
   "source": [
    "import this"
   ]
  },
  {
   "cell_type": "markdown",
   "metadata": {},
   "source": [
    "### Built-in Functions\n",
    "The Python interpreter has a number of functions and types built into it that are always available.\n",
    "\n",
    "https://docs.python.org/3/library/functions.html"
   ]
  },
  {
   "cell_type": "code",
   "execution_count": null,
   "metadata": {},
   "outputs": [],
   "source": [
    "print(\"Hello World!\") "
   ]
  },
  {
   "cell_type": "code",
   "execution_count": null,
   "metadata": {},
   "outputs": [],
   "source": [
    "input(\"Enter the hostname : \")"
   ]
  },
  {
   "cell_type": "code",
   "execution_count": null,
   "metadata": {},
   "outputs": [],
   "source": [
    "help(input)"
   ]
  },
  {
   "cell_type": "code",
   "execution_count": null,
   "metadata": {},
   "outputs": [],
   "source": [
    "dir(str)"
   ]
  },
  {
   "cell_type": "markdown",
   "metadata": {},
   "source": [
    "### VARIABLE\n",
    "- The easiest way to understand variables is to think of them as named containers that store data. The data stored could be a number, string, list, or dictionary. \n",
    "\n",
    "- To assign data to a variable, you use the equals (=) operator. Two equals operators (==) do not assign data to a variable, but are used as a comparison\n",
    "\n",
    "- Define once and use it many times. Upgrading 20 devices, instead of typing username password everytime, enter it once store it in a variable and use it for all devices."
   ]
  },
  {
   "cell_type": "code",
   "execution_count": null,
   "metadata": {},
   "outputs": [],
   "source": [
    "a = 3\n",
    "number_of_devices = 3\n",
    "\n",
    "\n",
    "location = 'Sanjose'"
   ]
  },
  {
   "cell_type": "markdown",
   "metadata": {},
   "source": [
    "Python variables point to pyObjects. The id() function gives you the memory location of the object you pass it."
   ]
  },
  {
   "cell_type": "code",
   "execution_count": null,
   "metadata": {},
   "outputs": [],
   "source": [
    "id(number_of_devices)"
   ]
  },
  {
   "cell_type": "markdown",
   "metadata": {},
   "source": [
    "### PEP8\n",
    "Variable names are case-sensitive.\n",
    "\n",
    "Variable names can be a single letter or one or more words.\n",
    "\n",
    "Variable names cannot start with a number.\n",
    "\n",
    "Variable names with more than one word use the underscore (_) to separate the words.\n",
    "\n",
    "Variable names should be self-explanatory, as long as they are not too long.\n",
    "\n",
    "Variable names cannot be Python keywords. Python keywords are reserved words with special meanings\n",
    "\n",
    "https://realpython.com/python-pep8/\n",
    "\n"
   ]
  },
  {
   "cell_type": "markdown",
   "metadata": {},
   "source": [
    "## DATA TYPES\n",
    "### Strings\n",
    "##### Strings are sequences of characters represented by single quotes, double quotes, or triple quotes.\n",
    "\n",
    "- Best practice is to be consistent so you should use the same characters to surround all the strings in a Python script or project."
   ]
  },
  {
   "cell_type": "code",
   "execution_count": null,
   "metadata": {},
   "outputs": [],
   "source": [
    "\"router01\"\n",
    "\n",
    "print('router1')\n"
   ]
  },
  {
   "cell_type": "code",
   "execution_count": null,
   "metadata": {},
   "outputs": [],
   "source": [
    "tunnel = \"\"\"\n",
    "interface Tunnel0\n",
    "ip address 10.10.10.1 255.255.255.0\n",
    "ip mtu 1416\n",
    "ip ospf hello-interval 5\n",
    "tunnel source FastEthernet1/0\n",
    "tunnel protection ipsec profile DMVPN\n",
    "\"\"\"\n",
    "\n",
    "tunnel"
   ]
  },
  {
   "cell_type": "markdown",
   "metadata": {},
   "source": [
    "### How to write comments"
   ]
  },
  {
   "cell_type": "code",
   "execution_count": null,
   "metadata": {},
   "outputs": [],
   "source": [
    "# How to write comments\n",
    "\n",
    "\"\"\"\n",
    "This is a multiline comment\n",
    "That is two lines wide\n",
    "\"\"\"\n",
    "\n",
    "\"router01"
   ]
  },
  {
   "cell_type": "markdown",
   "metadata": {},
   "source": [
    "### type()\n",
    "- Python has a built-in function called type(). The type() function returns the data type of the object that was passed to it."
   ]
  },
  {
   "cell_type": "code",
   "execution_count": null,
   "metadata": {},
   "outputs": [],
   "source": [
    "hostname = \"10.0\"\n",
    "type(hostname)"
   ]
  },
  {
   "cell_type": "markdown",
   "metadata": {},
   "source": [
    "### Numbers, int(), float()\n",
    "- An integer is a whole number with no decimal places.\n",
    "- Float is a number with decimal values\n",
    "- Convert int to float and float to int using int() and float() functions\n",
    "- You also can convert numbers with decimals, such as 4.55, or strings, such as \"4.55\", to an integer.\n"
   ]
  },
  {
   "cell_type": "code",
   "execution_count": null,
   "metadata": {},
   "outputs": [],
   "source": [
    "10 + 10"
   ]
  },
  {
   "cell_type": "code",
   "execution_count": null,
   "metadata": {},
   "outputs": [],
   "source": [
    "10/3"
   ]
  },
  {
   "cell_type": "code",
   "execution_count": null,
   "metadata": {},
   "outputs": [],
   "source": [
    "data = \"10\"\n",
    "type(data)"
   ]
  },
  {
   "cell_type": "code",
   "execution_count": null,
   "metadata": {},
   "outputs": [],
   "source": [
    "convert_data = str(data)\n",
    "\n",
    "print(convert_data)\n",
    "type(convert_data)"
   ]
  },
  {
   "cell_type": "code",
   "execution_count": null,
   "metadata": {},
   "outputs": [],
   "source": [
    "convert_data + \"10\""
   ]
  },
  {
   "cell_type": "code",
   "execution_count": null,
   "metadata": {},
   "outputs": [],
   "source": [
    "round(10/3.0, 2)"
   ]
  },
  {
   "cell_type": "markdown",
   "metadata": {},
   "source": [
    "### BOOL\n",
    "- The Boolean data type can have one of two values, True or False. \n",
    "- More helpful to evaluvate condition"
   ]
  },
  {
   "cell_type": "code",
   "execution_count": null,
   "metadata": {},
   "outputs": [],
   "source": [
    "10 > 3.0"
   ]
  },
  {
   "cell_type": "code",
   "execution_count": null,
   "metadata": {},
   "outputs": [],
   "source": [
    "10 == 3"
   ]
  },
  {
   "cell_type": "markdown",
   "metadata": {},
   "source": [
    "## LIST\n",
    "### Lists are a grouping of objects stored in a single variable.\n",
    "\n",
    "\n",
    "Start and end with square brackets [ ]\n",
    "\n",
    "Are ordered, Contain any object, Can be indexed, Are mutable, Are dynamic\n",
    "\n",
    "\n"
   ]
  },
  {
   "cell_type": "code",
   "execution_count": 153,
   "metadata": {},
   "outputs": [
    {
     "name": "stdout",
     "output_type": "stream",
     "text": [
      "['router1', 'router2', 'router3', 'switch1']\n"
     ]
    },
    {
     "data": {
      "text/plain": [
       "list"
      ]
     },
     "execution_count": 153,
     "metadata": {},
     "output_type": "execute_result"
    }
   ],
   "source": [
    "# A list is written as a group of objects separated by commas and surrounded by square brackets []\n",
    "\n",
    "devices = []\n",
    "devices = [\"router1\", \"router2\", \"router3\", \"switch1\"]\n",
    "print(devices)\n",
    "\n",
    "type(devices)"
   ]
  },
  {
   "cell_type": "code",
   "execution_count": null,
   "metadata": {},
   "outputs": [],
   "source": [
    "# We use the index value to access the item in a list\n",
    "devices[2]\n"
   ]
  },
  {
   "cell_type": "code",
   "execution_count": null,
   "metadata": {},
   "outputs": [],
   "source": [
    "# Also use the reverse ( negative ) index value to access the items\n",
    "devices[-1]"
   ]
  },
  {
   "cell_type": "markdown",
   "metadata": {},
   "source": [
    "### Working with a list\n",
    "\n",
    ".append()   >> Add to list at end\n",
    "\n",
    ".insert()   >> Add to list at specific location\n",
    "\n",
    ".pop()      >> Remove the last item\n",
    "\n",
    ".remove()   >> Remove the specific item\n",
    "\n",
    ".count()    >> Count the number of time a specific item is present\n",
    "\n",
    "\n",
    "len(devices)    >> Total number of items in a list\n",
    "\n",
    "split() and join()  >> Convert string to list and list to string\n"
   ]
  },
  {
   "cell_type": "code",
   "execution_count": null,
   "metadata": {},
   "outputs": [],
   "source": [
    "dir(str)"
   ]
  },
  {
   "cell_type": "code",
   "execution_count": 154,
   "metadata": {},
   "outputs": [
    {
     "data": {
      "text/plain": [
       "['router1', 'router2', 'router3', 'switch1', 'switch2']"
      ]
     },
     "execution_count": 154,
     "metadata": {},
     "output_type": "execute_result"
    }
   ],
   "source": [
    "# How to add to a list\n",
    "devices.append(\"switch2\")\n",
    "devices"
   ]
  },
  {
   "cell_type": "code",
   "execution_count": 155,
   "metadata": {},
   "outputs": [
    {
     "data": {
      "text/plain": [
       "['router1', 'router2', 'router3', 'router4', 'switch1', 'switch2']"
      ]
     },
     "execution_count": 155,
     "metadata": {},
     "output_type": "execute_result"
    }
   ],
   "source": [
    "# How to insert an item to a list at a specific index\n",
    "devices.insert(3, \"router4\")\n",
    "devices"
   ]
  },
  {
   "cell_type": "code",
   "execution_count": 156,
   "metadata": {},
   "outputs": [
    {
     "data": {
      "text/plain": [
       "['router1', 'router2', 'router3', 'router4', 'switch1']"
      ]
     },
     "execution_count": 156,
     "metadata": {},
     "output_type": "execute_result"
    }
   ],
   "source": [
    "# How to remove last item from the list\n",
    "devices.pop()\n",
    "devices"
   ]
  },
  {
   "cell_type": "code",
   "execution_count": 157,
   "metadata": {},
   "outputs": [
    {
     "data": {
      "text/plain": [
       "['router1', 'router2', 'router3', 'switch1']"
      ]
     },
     "execution_count": 157,
     "metadata": {},
     "output_type": "execute_result"
    }
   ],
   "source": [
    "# How to remove an item at specific index value\n",
    "devices.pop(3)\n",
    "devices"
   ]
  },
  {
   "cell_type": "code",
   "execution_count": 158,
   "metadata": {},
   "outputs": [
    {
     "data": {
      "text/plain": [
       "['router1', 'router2', 'router3']"
      ]
     },
     "execution_count": 158,
     "metadata": {},
     "output_type": "execute_result"
    }
   ],
   "source": [
    "# How to remove an item directly\n",
    "devices.remove(\"switch1\")\n",
    "devices"
   ]
  },
  {
   "cell_type": "code",
   "execution_count": 159,
   "metadata": {},
   "outputs": [
    {
     "data": {
      "text/plain": [
       "1"
      ]
     },
     "execution_count": 159,
     "metadata": {},
     "output_type": "execute_result"
    }
   ],
   "source": [
    "devices.count('router1')"
   ]
  },
  {
   "cell_type": "code",
   "execution_count": 160,
   "metadata": {},
   "outputs": [
    {
     "data": {
      "text/plain": [
       "3"
      ]
     },
     "execution_count": 160,
     "metadata": {},
     "output_type": "execute_result"
    }
   ],
   "source": [
    "len(devices)"
   ]
  },
  {
   "cell_type": "code",
   "execution_count": 161,
   "metadata": {},
   "outputs": [
    {
     "name": "stdout",
     "output_type": "stream",
     "text": [
      "['router1', 'router2', 'router3']\n",
      "['router2', 'router3']\n",
      "['router2']\n",
      "['router2', 'router3']\n",
      "['router2', 'router3']\n"
     ]
    }
   ],
   "source": [
    "# List slicing\n",
    "print(devices)\n",
    "print(devices[1::])\n",
    "print(devices[1:2])\n",
    "print(devices[1:3])\n",
    "print(devices[1:4])"
   ]
  },
  {
   "cell_type": "code",
   "execution_count": null,
   "metadata": {},
   "outputs": [],
   "source": [
    "# Working with nested items\n",
    "interfaces = [['FastEthernet0/0', '15.0.15.1', 'YES', 'manual', 'up', 'up'],\n",
    "              ['FastEthernet0/1', '10.0.1.1', 'YES', 'manual', 'up', 'up'],\n",
    "              ['FastEthernet0/2', '10.0.2.1', 'YES', 'manual', 'up', 'down']]\n",
    "\n",
    "interface = interfaces[0][0]\n",
    "print(interface)"
   ]
  },
  {
   "cell_type": "code",
   "execution_count": 162,
   "metadata": {},
   "outputs": [
    {
     "name": "stdout",
     "output_type": "stream",
     "text": [
      "['10', '20', '30']\n",
      "10,20,30\n"
     ]
    }
   ],
   "source": [
    "# How to split and join data\n",
    "\n",
    "vlans = '10,20,30'\n",
    "vlan_list = vlans.split(',')\n",
    "print(vlan_list)\n",
    "\n",
    "new_vlans = ','.join(vlan_list)\n",
    "print(new_vlans)"
   ]
  },
  {
   "cell_type": "markdown",
   "metadata": {},
   "source": [
    "### Visualize the code execution using python tutor\n",
    "https://pythontutor.com/visualize.html#mode=edit"
   ]
  },
  {
   "cell_type": "markdown",
   "metadata": {},
   "source": []
  },
  {
   "cell_type": "markdown",
   "metadata": {},
   "source": [
    "### TUPLE\n",
    "\n",
    "- Tuples are similar to lists: both are a collection of ordered objects (integers, floats, list, strings, and so on) and allow duplicate objects.\n",
    "\n",
    "- a sequence of elements separated by a comma and enclosed in parentheses\n",
    "\n",
    "- immutable ordered data type\n",
    "\n",
    "\n",
    ".count()    >> Count the number of time a specific item is present\n",
    "\n",
    ".index()    >> Find the index value of the item"
   ]
  },
  {
   "cell_type": "code",
   "execution_count": 163,
   "metadata": {},
   "outputs": [
    {
     "data": {
      "text/plain": [
       "tuple"
      ]
     },
     "execution_count": 163,
     "metadata": {},
     "output_type": "execute_result"
    }
   ],
   "source": [
    "# Example of a tuple\n",
    "sw_type = (\"IOS\", \"IOS-XE\", \"IOS-XR\", \"NX-OS\")\n",
    "type(sw_type)"
   ]
  },
  {
   "cell_type": "code",
   "execution_count": 164,
   "metadata": {},
   "outputs": [
    {
     "data": {
      "text/plain": [
       "'NX-OS'"
      ]
     },
     "execution_count": 164,
     "metadata": {},
     "output_type": "execute_result"
    }
   ],
   "source": [
    "# How to access an item\n",
    "sw_type[3]"
   ]
  },
  {
   "cell_type": "code",
   "execution_count": null,
   "metadata": {},
   "outputs": [],
   "source": [
    "sw_type.count(\"IOS\")"
   ]
  },
  {
   "cell_type": "code",
   "execution_count": 165,
   "metadata": {},
   "outputs": [
    {
     "ename": "TypeError",
     "evalue": "'tuple' object does not support item assignment",
     "output_type": "error",
     "traceback": [
      "\u001b[0;31m---------------------------------------------------------------------------\u001b[0m",
      "\u001b[0;31mTypeError\u001b[0m                                 Traceback (most recent call last)",
      "\u001b[1;32m/Users/jagadnag/projects/python_training/week02.ipynb Cell 52\u001b[0m line \u001b[0;36m1\n\u001b[0;32m----> <a href='vscode-notebook-cell:/Users/jagadnag/projects/python_training/week02.ipynb#X44sZmlsZQ%3D%3D?line=0'>1</a>\u001b[0m sw_type[\u001b[39m4\u001b[39;49m] \u001b[39m=\u001b[39m \u001b[39m'\u001b[39m\u001b[39mFXOS\u001b[39m\u001b[39m'\u001b[39m\n",
      "\u001b[0;31mTypeError\u001b[0m: 'tuple' object does not support item assignment"
     ]
    }
   ],
   "source": [
    "sw_type[4] = 'FXOS'"
   ]
  },
  {
   "cell_type": "markdown",
   "metadata": {},
   "source": [
    "### SET\n",
    "- Sets are written with curly brackets, similar to dictionaries, but they do not include key:value pairs, just objects. \n",
    "- Sets do not allow for duplicate values. \n",
    "- Sets are also mutable, so you can add or remove objects from a set.\n",
    "- Sets are used to store multiple objects that are unordered and unindexed. \n",
    "\n",
    "Supports two meathods\n",
    ".union()\n",
    ".intersection()"
   ]
  },
  {
   "cell_type": "code",
   "execution_count": null,
   "metadata": {},
   "outputs": [],
   "source": [
    "router_1 = {\"R1\", \"IOS-XE\"}\n",
    "router_2 = {\"R2\", \"IOS-XE\"}\n",
    "router_1.union(router_2)"
   ]
  },
  {
   "cell_type": "code",
   "execution_count": null,
   "metadata": {},
   "outputs": [],
   "source": [
    "router_1.intersection(router_2)"
   ]
  },
  {
   "cell_type": "code",
   "execution_count": 166,
   "metadata": {},
   "outputs": [
    {
     "name": "stdout",
     "output_type": "stream",
     "text": [
      "[10, 20, 30, 40, 100, 10, 10, 10]\n",
      "{100, 40, 10, 20, 30}\n"
     ]
    }
   ],
   "source": [
    "vlans = [10, 20, 30, 40, 100, 10, 10, 10]\n",
    "print(vlans)\n",
    "type(vlans)\n",
    "\n",
    "unique_vlans = set(vlans)\n",
    "\n",
    "print(unique_vlans)"
   ]
  },
  {
   "cell_type": "markdown",
   "metadata": {},
   "source": [
    "### DICTIONARY\n",
    "\n",
    "- A dictionary is an unordered list of key-value pairs\n",
    "- uses curly braces {} \n",
    "- information inside the dictionary is represented by a key and value separated by a colon (:)\n",
    "- Mutable, can grow and shrink as needed, and can be nested.\n",
    "\n",
    "\n",
    "- KEY : immutable object, such as a string, integer, float or Boolean, but it cannot be a list or another dictionary because they are mutable. \n",
    "- VALUE : mutable, so it can be any object type. \n"
   ]
  },
  {
   "cell_type": "code",
   "execution_count": 167,
   "metadata": {},
   "outputs": [
    {
     "name": "stdout",
     "output_type": "stream",
     "text": [
      "{'vendor': 'Cisco', 'model': 'Nexus 9000', 'os_type': 'NX-OS', 'location': 'Sanjose'}\n"
     ]
    }
   ],
   "source": [
    "switch = {}\n",
    "switch['vendor']='Cisco'\n",
    "switch['model']='Nexus 9000'\n",
    "switch['os_type']='NX-OS'\n",
    "switch['location']='Sanjose'\n",
    "print(switch)"
   ]
  },
  {
   "cell_type": "code",
   "execution_count": 168,
   "metadata": {},
   "outputs": [
    {
     "data": {
      "text/plain": [
       "'Cisco'"
      ]
     },
     "execution_count": 168,
     "metadata": {},
     "output_type": "execute_result"
    }
   ],
   "source": [
    "# How to access a value\n",
    "switch['vendor']"
   ]
  },
  {
   "cell_type": "code",
   "execution_count": 169,
   "metadata": {},
   "outputs": [
    {
     "name": "stdout",
     "output_type": "stream",
     "text": [
      "The switch vendor is Cisco\n"
     ]
    }
   ],
   "source": [
    "if switch['vendor'] == 'Cisco':\n",
    "    print(\"The switch vendor is Cisco\")\n",
    "else:\n",
    "    print(\"Switch is a third party switch\")    "
   ]
  },
  {
   "cell_type": "markdown",
   "metadata": {},
   "source": [
    "### Dictionary Methods\n",
    "\n",
    ".get()  >> Retrieves the value of a given key. The get() method will return a value of ‘None’ instead of an error.\n",
    "\n",
    ".items()    >> Returns the keys and values in a tuple form in a list\n",
    "\n",
    ".keys() >> Returns all the keys in a list format\n",
    "\n",
    ".values()   >> Returns all the values in a list format"
   ]
  },
  {
   "cell_type": "code",
   "execution_count": 172,
   "metadata": {},
   "outputs": [],
   "source": [
    "# To avoid key errors use get method\n",
    "#switch['ios']\n",
    "switch.get('ios')"
   ]
  },
  {
   "cell_type": "code",
   "execution_count": 173,
   "metadata": {},
   "outputs": [
    {
     "data": {
      "text/plain": [
       "dict_items([('vendor', 'Cisco'), ('model', 'Nexus 9000'), ('os_type', 'NX-OS'), ('location', 'Sanjose')])"
      ]
     },
     "execution_count": 173,
     "metadata": {},
     "output_type": "execute_result"
    }
   ],
   "source": [
    "# View all items in a dictionary\n",
    "switch.items()"
   ]
  },
  {
   "cell_type": "code",
   "execution_count": 174,
   "metadata": {},
   "outputs": [
    {
     "data": {
      "text/plain": [
       "dict_keys(['vendor', 'model', 'os_type', 'location'])"
      ]
     },
     "execution_count": 174,
     "metadata": {},
     "output_type": "execute_result"
    }
   ],
   "source": [
    "switch.keys()"
   ]
  },
  {
   "cell_type": "code",
   "execution_count": 175,
   "metadata": {},
   "outputs": [
    {
     "data": {
      "text/plain": [
       "dict_values(['Cisco', 'Nexus 9000', 'NX-OS', 'Sanjose'])"
      ]
     },
     "execution_count": 175,
     "metadata": {},
     "output_type": "execute_result"
    }
   ],
   "source": [
    "switch.values()"
   ]
  },
  {
   "cell_type": "markdown",
   "metadata": {},
   "source": [
    "### STRING MANIPULATION\n",
    "- String split\n",
    "- String concatenation\n",
    "- String formating\n",
    "- Escape characters"
   ]
  },
  {
   "cell_type": "code",
   "execution_count": null,
   "metadata": {},
   "outputs": [],
   "source": [
    "dir(str)"
   ]
  },
  {
   "cell_type": "code",
   "execution_count": null,
   "metadata": {},
   "outputs": [],
   "source": [
    "# We can use any string method to change the format of the string\n",
    "string1 = 'FastEthernet'\n",
    "\n",
    "string1.upper()\n"
   ]
  },
  {
   "cell_type": "code",
   "execution_count": null,
   "metadata": {},
   "outputs": [],
   "source": [
    "# Save new value to another variable\n",
    "print(string1)\n",
    "new_string1 = string1.upper()\n",
    "print(new_string1)"
   ]
  },
  {
   "cell_type": "code",
   "execution_count": null,
   "metadata": {},
   "outputs": [],
   "source": [
    "string1 = 'FastEthernet0/1'\n",
    "string1.replace('Fast', 'Gigabit')"
   ]
  },
  {
   "cell_type": "markdown",
   "metadata": {},
   "source": [
    "DC1-N7K-1# sh ver\n",
    "Cisco Nexus Operating System (NX-OS) Software\n",
    "TAC support: http://www.cisco.com/tac\n",
    "Copyright (C) 2002-2021, Cisco and/or its affiliates.\n",
    "All rights reserved.\n",
    "The copyrights to certain works contained in this software are\n",
    "owned by other third parties and used and distributed under their own\n",
    "licenses, such as open source.  This software is provided \"as is,\" and unless\n",
    "otherwise stated, there is no warranty, express or implied, including but not\n",
    "limited to warranties of merchantability and fitness for a particular purpose.\n",
    "Certain components of this software are licensed under\n",
    "the GNU General Public License (GPL) version 2.0 or \n",
    "GNU General Public License (GPL) version 3.0  or the GNU\n",
    "Lesser General Public License (LGPL) Version 2.1 or \n",
    "Lesser General Public License (LGPL) Version 2.0. \n",
    "A copy of each such license is available at\n",
    "http://www.opensource.org/licenses/gpl-2.0.php and\n",
    "http://opensource.org/licenses/gpl-3.0.html and\n",
    "http://www.opensource.org/licenses/lgpl-2.1.php and\n",
    "http://www.gnu.org/licenses/old-licenses/library.txt.\n",
    "\n",
    "Software\n",
    "  BIOS: version 07.69\n",
    "  NXOS: version 7.0(3)I7(10)\n",
    "  BIOS compile time:  04/08/2021\n",
    "  NXOS image file is: bootflash:///nxos.7.0.3.I7.10.bin\n",
    "  NXOS compile time:  8/20/2021 6:00:00 [08/20/2021 07:16:06]\n",
    "\n",
    "\n",
    "Hardware\n",
    "  cisco Nexus9000 C9372PX chassis \n",
    "  Intel(R) Core(TM) i3- CPU @ 2.50GHz with 16401080 kB of memory.\n",
    "  Processor Board ID FDO20190VPU\n",
    "\n",
    "  Device name: DC1-N7K-1\n",
    "  bootflash:   11906048 kB\n",
    "Kernel uptime is 15 day(s), 2 hour(s), 2 minute(s), 33 second(s)"
   ]
  },
  {
   "cell_type": "markdown",
   "metadata": {},
   "source": [
    "DC1-N7K-1# sh ver | in NXOS:\n",
    "  NXOS: version 7.0(3)I7(10)"
   ]
  },
  {
   "cell_type": "code",
   "execution_count": 178,
   "metadata": {},
   "outputs": [
    {
     "name": "stdout",
     "output_type": "stream",
     "text": [
      "  NXOS: version 7.0(3)I7(10)  \n"
     ]
    }
   ],
   "source": [
    "# Use the strip(), lstrip and rstrip to remove spaces\n",
    "\n",
    "string1 = '  NXOS: version 7.0(3)I7(10)  '\n",
    "print(string1)"
   ]
  },
  {
   "cell_type": "code",
   "execution_count": 177,
   "metadata": {},
   "outputs": [
    {
     "data": {
      "text/plain": [
       "'NXOS: version 7.0(3)I7(10)'"
      ]
     },
     "execution_count": 177,
     "metadata": {},
     "output_type": "execute_result"
    }
   ],
   "source": [
    "#string1.strip()"
   ]
  },
  {
   "cell_type": "code",
   "execution_count": 179,
   "metadata": {},
   "outputs": [
    {
     "name": "stdout",
     "output_type": "stream",
     "text": [
      "['NXOS:', 'version', '7.0(3)I7(10)']\n"
     ]
    }
   ],
   "source": [
    "# How to use method chaining\n",
    "data = string1.strip().split()\n",
    "print(data)"
   ]
  },
  {
   "cell_type": "code",
   "execution_count": 180,
   "metadata": {},
   "outputs": [
    {
     "name": "stdout",
     "output_type": "stream",
     "text": [
      "7.0(3)I7(10)\n"
     ]
    }
   ],
   "source": [
    "sw_version = data[2]\n",
    "print(sw_version)"
   ]
  },
  {
   "cell_type": "markdown",
   "metadata": {},
   "source": [
    "### String formatting with format method"
   ]
  },
  {
   "cell_type": "code",
   "execution_count": 182,
   "metadata": {},
   "outputs": [
    {
     "data": {
      "text/plain": [
       "'this is sw version'"
      ]
     },
     "execution_count": 182,
     "metadata": {},
     "output_type": "execute_result"
    }
   ],
   "source": [
    "\"this is sw \" + 'version'"
   ]
  },
  {
   "cell_type": "code",
   "execution_count": null,
   "metadata": {},
   "outputs": [],
   "source": [
    "\"interface FastEthernet0/{}\".format('1')"
   ]
  },
  {
   "cell_type": "code",
   "execution_count": 183,
   "metadata": {},
   "outputs": [
    {
     "name": "stdout",
     "output_type": "stream",
     "text": [
      "Cisco NXOS sw version is 7.0(3)I7(10)\n"
     ]
    }
   ],
   "source": [
    "print('Cisco NXOS sw version is {}'.format(sw_version))"
   ]
  },
  {
   "cell_type": "code",
   "execution_count": null,
   "metadata": {},
   "outputs": [],
   "source": [
    "print(f'Cisco NXOS sw version is {sw_version}')"
   ]
  },
  {
   "cell_type": "code",
   "execution_count": 187,
   "metadata": {},
   "outputs": [
    {
     "name": "stdout",
     "output_type": "stream",
     "text": [
      "--------------------------------------------------\n",
      "Cisco NXOS sw version is 7.0(3)I7(10)\n",
      "--------------------------------------------------\n"
     ]
    }
   ],
   "source": [
    "print('-' * 50)\n",
    "print(f'Cisco NXOS sw version is {sw_version}')\n",
    "print('-' * 50)"
   ]
  },
  {
   "cell_type": "code",
   "execution_count": 193,
   "metadata": {},
   "outputs": [
    {
     "name": "stdout",
     "output_type": "stream",
     "text": [
      "            100 aabb.cc80.7000            Gi0/1\n"
     ]
    }
   ],
   "source": [
    "# Align text while printing\n",
    "vlan, mac, intf = ['100', 'aabb.cc80.7000', 'Gi0/1']\n",
    "print(\"{:>15} {:15} {:>15}\".format(vlan, mac, intf))"
   ]
  },
  {
   "cell_type": "code",
   "execution_count": null,
   "metadata": {},
   "outputs": [],
   "source": []
  }
 ],
 "metadata": {
  "kernelspec": {
   "display_name": "venv",
   "language": "python",
   "name": "python3"
  },
  "language_info": {
   "codemirror_mode": {
    "name": "ipython",
    "version": 3
   },
   "file_extension": ".py",
   "mimetype": "text/x-python",
   "name": "python",
   "nbconvert_exporter": "python",
   "pygments_lexer": "ipython3",
   "version": "3.9.12"
  }
 },
 "nbformat": 4,
 "nbformat_minor": 2
}
